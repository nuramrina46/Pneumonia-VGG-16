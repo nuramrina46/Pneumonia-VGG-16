{
  "cells": [
    {
      "cell_type": "markdown",
      "metadata": {
        "id": "view-in-github",
        "colab_type": "text"
      },
      "source": [
        "<a href=\"https://colab.research.google.com/github/nuramrina46/Tugas-Akhir/blob/main/Resize/256.ipynb\" target=\"_parent\"><img src=\"https://colab.research.google.com/assets/colab-badge.svg\" alt=\"Open In Colab\"/></a>"
      ]
    },
    {
      "cell_type": "code",
      "execution_count": 1,
      "metadata": {
        "colab": {
          "base_uri": "https://localhost:8080/"
        },
        "id": "2_RYo7hrXaC5",
        "outputId": "700c125d-09cb-421d-913f-98e7f520adc6"
      },
      "outputs": [
        {
          "output_type": "stream",
          "name": "stdout",
          "text": [
            "Mounted at /content/drive\n"
          ]
        }
      ],
      "source": [
        "from google.colab import drive\n",
        "drive.mount('/content/drive')"
      ]
    },
    {
      "cell_type": "code",
      "execution_count": 2,
      "metadata": {
        "colab": {
          "base_uri": "https://localhost:8080/"
        },
        "id": "G4aisxOFX3KH",
        "outputId": "2f57a502-b130-4942-8bf4-afcde6f9be55"
      },
      "outputs": [
        {
          "output_type": "stream",
          "name": "stdout",
          "text": [
            "/content/drive/My Drive/Colab Notebooks\n"
          ]
        }
      ],
      "source": [
        "cd /content/drive/My Drive/Colab Notebooks"
      ]
    },
    {
      "cell_type": "code",
      "execution_count": 3,
      "metadata": {
        "colab": {
          "base_uri": "https://localhost:8080/"
        },
        "id": "e_oGUrADX8O_",
        "outputId": "db7d8263-9b46-4f29-a566-a91007866728"
      },
      "outputs": [
        {
          "output_type": "stream",
          "name": "stdout",
          "text": [
            " Augmentasi_DATA.ipynb                              Untitled18.ipynb\n",
            "'blood-cancer-diagnosis (1).ipynb'                  Untitled19.ipynb\n",
            " blood-cancer-diagnosis.ipynb                       Untitled1.ipynb\n",
            " CNN_Alzheimer.ipynb                               'Untitled (2)'\n",
            " CNN_normalized_lr_1_e5.ipynb                       Untitled20.ipynb\n",
            " COV,TB,PNM,NM.ipynb                                Untitled21.ipynb\n",
            " Dskin_CNN.ipynb                                    Untitled22.ipynb\n",
            " \u001b[0m\u001b[01;34mPNEUMONIA\u001b[0m/                                         Untitled23.ipynb\n",
            "'pneumonia_VGG_16_fiX (3).ipynb'                    Untitled24.ipynb\n",
            "'pneumonia_vgg_19_(2).ipynb'                        Untitled25.ipynb\n",
            "'Python_Tugas13 (1).ipynb'                          Untitled26.ipynb\n",
            " Python_Tugas13.ipynb                               Untitled27.ipynb\n",
            " Salinan_dari_AugmentasiAll.ipynb                   Untitled28.ipynb\n",
            "'Salinan dari pneumonia_VGG_16_fiX (3).ipynb'       Untitled29.ipynb\n",
            "'Salinan dari Selamat Datang di Colaboratory'       Untitled2.ipynb\n",
            "'Salinan dari Selamat Datang di Colaboratory (1)'  'Untitled (3)'\n",
            "'Salinan dari Snippets: Importing libraries'        Untitled30.ipynb\n",
            " Untitled                                           Untitled3.ipynb\n",
            " Untitled0.ipynb                                   'Untitled (4)'\n",
            "'Untitled (1)'                                      Untitled4.ipynb\n",
            " Untitled10.ipynb                                  'Untitled (5)'\n",
            " Untitled11.ipynb                                   Untitled5.ipynb\n",
            " Untitled12.ipynb                                  'Untitled (6)'\n",
            " Untitled13.ipynb                                   Untitled6.ipynb\n",
            " Untitled14.ipynb                                  'Untitled (7)'\n",
            " Untitled15.ipynb                                   Untitled7.ipynb\n",
            " Untitled16.ipynb                                   Untitled8.ipynb\n",
            " Untitled17.ipynb                                   Untitled9.ipynb\n"
          ]
        }
      ],
      "source": [
        "ls"
      ]
    },
    {
      "cell_type": "code",
      "execution_count": 4,
      "metadata": {
        "id": "t95OxlI7X_OF"
      },
      "outputs": [],
      "source": [
        "from keras.models import Model\n",
        "from keras.models import load_model\n",
        "from keras.models import Sequential\n",
        "from keras.layers.convolutional import Convolution2D\n",
        "from keras.layers.convolutional import MaxPooling2D\n",
        "from keras.layers.convolutional import ZeroPadding2D\n",
        "from keras.layers.core import Activation\n",
        "from keras.layers.core import Flatten\n",
        "from keras.layers.core import Dense\n",
        "from keras.layers.core import Dropout\n",
        "from keras.layers import BatchNormalization\n",
        "from keras import regularizers\n",
        "from keras.preprocessing.image import ImageDataGenerator\n",
        "from tensorflow.keras.optimizers import RMSprop, Adam, SGD\n",
        "from sklearn.preprocessing import LabelBinarizer\n",
        "from sklearn.model_selection import train_test_split\n",
        "from sklearn.metrics import classification_report\n",
        "from PIL import Image\n",
        "from matplotlib import pyplot as plt\n",
        "from imutils import paths\n",
        "import numpy as np\n",
        "import os"
      ]
    },
    {
      "cell_type": "code",
      "execution_count": 5,
      "metadata": {
        "colab": {
          "base_uri": "https://localhost:8080/"
        },
        "id": "jvn693i-YDZ8",
        "outputId": "5ebfd9a9-6f55-46b4-d5af-eba4ff86f26e"
      },
      "outputs": [
        {
          "output_type": "stream",
          "name": "stdout",
          "text": [
            "[INFO] loading images...\n"
          ]
        }
      ],
      "source": [
        "print(\"[INFO] loading images...\")\n",
        "imagePaths = paths.list_images(\"PNEUMONIA\")\n",
        "data = []\n",
        "labels = []"
      ]
    },
    {
      "cell_type": "code",
      "execution_count": 6,
      "metadata": {
        "id": "3XLuWAZsYLfK"
      },
      "outputs": [],
      "source": [
        "for imagePaths in imagePaths:\n",
        "    a = Image.open(imagePaths)\n",
        "    image = np.array(a.resize((256,256))) / 255.0\n",
        "    data.append(image)\n",
        "    \n",
        "    label = imagePaths.split(os.path.sep) [-2]\n",
        "    labels.append(label)"
      ]
    },
    {
      "cell_type": "code",
      "execution_count": 7,
      "metadata": {
        "id": "BSDCG8Cvw1jC",
        "colab": {
          "base_uri": "https://localhost:8080/"
        },
        "outputId": "28f9aeff-c41b-4781-c5e4-70bc705d7068"
      },
      "outputs": [
        {
          "output_type": "stream",
          "name": "stdout",
          "text": [
            "(3166, 256, 256, 1)\n"
          ]
        }
      ],
      "source": [
        "temp = np.array(data)\n",
        "temp = np.expand_dims(temp, axis=3)\n",
        "print(temp.shape)"
      ]
    },
    {
      "cell_type": "code",
      "execution_count": 8,
      "metadata": {
        "id": "gnjyPDi_Yyrn",
        "colab": {
          "base_uri": "https://localhost:8080/"
        },
        "outputId": "0f43b92e-b420-4a21-82b3-76e098b7a613"
      },
      "outputs": [
        {
          "output_type": "stream",
          "name": "stdout",
          "text": [
            "[[0 1]\n",
            " [0 1]\n",
            " [0 1]\n",
            " ...\n",
            " [1 0]\n",
            " [1 0]\n",
            " [1 0]]\n"
          ]
        }
      ],
      "source": [
        "from sklearn.preprocessing import LabelBinarizer\n",
        "import numpy as np\n",
        "\n",
        "class MyLabelBinarizer(LabelBinarizer):\n",
        "    def transform(self, label):\n",
        "      nilaiy = super().transform(label)\n",
        "      if self.y_type_== 'binary':\n",
        "        return np.hstack((nilaiy, 1-nilaiy))\n",
        "      else:\n",
        "        return nilaiy\n",
        "    def inverse_transform(self, nilaiy, threshold=None):\n",
        "      if self.y_type_ == 'binary':\n",
        "          return super().inverse_transform(nilaiy[:, 0], threshold)\n",
        "      else:\n",
        "          return super().inverse_transform(nilaiy, threshold)\n",
        "\n",
        "      \n",
        "\n",
        "lb = MyLabelBinarizer()\n",
        "labels = lb.fit_transform(labels)\n",
        "print(labels)"
      ]
    },
    {
      "cell_type": "code",
      "execution_count": 9,
      "metadata": {
        "id": "0V3CnlQtY1g2",
        "colab": {
          "base_uri": "https://localhost:8080/"
        },
        "outputId": "9315710f-5b5d-4f25-b189-1a3140fbc10f"
      },
      "outputs": [
        {
          "output_type": "stream",
          "name": "stdout",
          "text": [
            "(2532, 256, 256)\n",
            "(634, 256, 256)\n"
          ]
        }
      ],
      "source": [
        "(trainX,testX, trainY, testY) = train_test_split(np.array(data),np.array(labels), test_size=0.20, random_state=0)\n",
        "print(trainX.shape)\n",
        "print(testX.shape)"
      ]
    },
    {
      "cell_type": "code",
      "execution_count": 10,
      "metadata": {
        "id": "WpeYjXzUZCZP"
      },
      "outputs": [],
      "source": [
        "def vgg16(num_classes):\n",
        "\n",
        "    vgg16 = Sequential()\n",
        "\n",
        "    vgg16.add(Convolution2D(input_shape=(256,256,1),filters=64,kernel_size=(3,3),padding=\"same\"))\n",
        "    vgg16.add(Activation('relu'))\n",
        "    vgg16.add(BatchNormalization())\n",
        "    #layer1 32*32*64\n",
        "    vgg16.add(Convolution2D(filters=64,kernel_size=(3,3),padding=\"same\"))\n",
        "    vgg16.add(Activation('relu'))\n",
        "    vgg16.add(MaxPooling2D(pool_size=(2, 2),strides=(2,2)))\n",
        "    vgg16.add(BatchNormalization())\n",
        "    #layer2 16*16*64\n",
        "    vgg16.add(Convolution2D(filters=128, kernel_size=(3,3), padding=\"same\"))\n",
        "    vgg16.add(Activation('relu'))\n",
        "    vgg16.add(BatchNormalization())\n",
        "    #layer3 16*16*128\n",
        "    vgg16.add(Convolution2D(filters=128, kernel_size=(3,3), padding=\"same\",))\n",
        "    vgg16.add(Activation('relu'))\n",
        "    vgg16.add(MaxPooling2D(pool_size=(2,2),strides=(2,2)))\n",
        "    vgg16.add(BatchNormalization())\n",
        "    #layer4 8*8*128\n",
        "    vgg16.add(Convolution2D(filters=256, kernel_size=(3,3), padding=\"same\"))\n",
        "    vgg16.add(Activation('relu'))\n",
        "    vgg16.add(BatchNormalization())\n",
        "    #layer5 8*8*256\n",
        "    vgg16.add(Convolution2D(filters=256, kernel_size=(3,3), padding=\"same\"))\n",
        "    vgg16.add(Activation('relu'))\n",
        "    vgg16.add(BatchNormalization())\n",
        "    #layer6 8*8*256\n",
        "    vgg16.add(Convolution2D(filters=256, kernel_size=(3,3), padding=\"same\"))\n",
        "    vgg16.add(Activation('relu'))\n",
        "    vgg16.add(MaxPooling2D(pool_size=(2,2),strides=(2,2)))\n",
        "    vgg16.add(BatchNormalization())\n",
        "    #layer7 4*4*256\n",
        "    vgg16.add(Convolution2D(filters=512, kernel_size=(3,3), padding=\"same\"))\n",
        "    vgg16.add(Activation('relu'))\n",
        "    vgg16.add(BatchNormalization())\n",
        "    #layer8 4*4*512\n",
        "    vgg16.add(Convolution2D(filters=512, kernel_size=(3,3), padding=\"same\"))\n",
        "    vgg16.add(Activation('relu'))\n",
        "    vgg16.add(BatchNormalization())\n",
        "    #layer9 4*4*512\n",
        "    vgg16.add(Convolution2D(filters=512, kernel_size=(3,3), padding=\"same\"))\n",
        "    vgg16.add(Activation('relu'))\n",
        "    vgg16.add(MaxPooling2D(pool_size=(2,2),strides=(2,2)))\n",
        "    vgg16.add(BatchNormalization())\n",
        "    #layer10 2*2*512\n",
        "    vgg16.add(Convolution2D(filters=512, kernel_size=(3,3), padding=\"same\"))\n",
        "    vgg16.add(Activation('relu'))\n",
        "    vgg16.add(BatchNormalization())\n",
        "    #layer11 2*2*512\n",
        "    vgg16.add(Convolution2D(filters=512, kernel_size=(3,3), padding=\"same\"))  \n",
        "    vgg16.add(Activation('relu')) \n",
        "    vgg16.add(BatchNormalization())       \n",
        "    #layer12 2*2*512\n",
        "    vgg16.add(Convolution2D(filters=512, kernel_size=(3,3), padding=\"same\"))\n",
        "    vgg16.add(Activation('relu'))\n",
        "    vgg16.add(MaxPooling2D(pool_size=(2,2),strides=(2,2)))\n",
        "    vgg16.add(BatchNormalization())\n",
        "    #layer13 1*1*512\n",
        "    vgg16.add(Flatten())\n",
        "    vgg16.add(Dense(units=4096))\n",
        "    vgg16.add(Activation('relu')) \n",
        "    vgg16.add(BatchNormalization())\n",
        "    vgg16.add(Dropout(0.5))\n",
        "    #layer14 4096\n",
        "    vgg16.add(Dense(units=4096))\n",
        "    vgg16.add(Activation('relu')) \n",
        "    vgg16.add(BatchNormalization())\n",
        "    vgg16.add(Dropout(0.5))\n",
        "    #layer16 4096\n",
        "    vgg16.add(Dense(units=1000))\n",
        "    vgg16.add(Activation('relu'))\n",
        "    vgg16.add(BatchNormalization())\n",
        "    vgg16.add(Dropout(0.5)) \n",
        "    #layer16 1000\n",
        "    vgg16.add(Dense(2, activation=\"softmax\"))\n",
        "\n",
        "    return vgg16"
      ]
    },
    {
      "cell_type": "code",
      "execution_count": 11,
      "metadata": {
        "id": "rlT3OhVuZLUs",
        "colab": {
          "base_uri": "https://localhost:8080/"
        },
        "outputId": "822266d6-5f50-4108-9753-e8f972e90386"
      },
      "outputs": [
        {
          "output_type": "stream",
          "name": "stdout",
          "text": [
            "Model: \"sequential\"\n",
            "_________________________________________________________________\n",
            " Layer (type)                Output Shape              Param #   \n",
            "=================================================================\n",
            " conv2d (Conv2D)             (None, 256, 256, 64)      640       \n",
            "                                                                 \n",
            " activation (Activation)     (None, 256, 256, 64)      0         \n",
            "                                                                 \n",
            " batch_normalization (BatchN  (None, 256, 256, 64)     256       \n",
            " ormalization)                                                   \n",
            "                                                                 \n",
            " conv2d_1 (Conv2D)           (None, 256, 256, 64)      36928     \n",
            "                                                                 \n",
            " activation_1 (Activation)   (None, 256, 256, 64)      0         \n",
            "                                                                 \n",
            " max_pooling2d (MaxPooling2D  (None, 128, 128, 64)     0         \n",
            " )                                                               \n",
            "                                                                 \n",
            " batch_normalization_1 (Batc  (None, 128, 128, 64)     256       \n",
            " hNormalization)                                                 \n",
            "                                                                 \n",
            " conv2d_2 (Conv2D)           (None, 128, 128, 128)     73856     \n",
            "                                                                 \n",
            " activation_2 (Activation)   (None, 128, 128, 128)     0         \n",
            "                                                                 \n",
            " batch_normalization_2 (Batc  (None, 128, 128, 128)    512       \n",
            " hNormalization)                                                 \n",
            "                                                                 \n",
            " conv2d_3 (Conv2D)           (None, 128, 128, 128)     147584    \n",
            "                                                                 \n",
            " activation_3 (Activation)   (None, 128, 128, 128)     0         \n",
            "                                                                 \n",
            " max_pooling2d_1 (MaxPooling  (None, 64, 64, 128)      0         \n",
            " 2D)                                                             \n",
            "                                                                 \n",
            " batch_normalization_3 (Batc  (None, 64, 64, 128)      512       \n",
            " hNormalization)                                                 \n",
            "                                                                 \n",
            " conv2d_4 (Conv2D)           (None, 64, 64, 256)       295168    \n",
            "                                                                 \n",
            " activation_4 (Activation)   (None, 64, 64, 256)       0         \n",
            "                                                                 \n",
            " batch_normalization_4 (Batc  (None, 64, 64, 256)      1024      \n",
            " hNormalization)                                                 \n",
            "                                                                 \n",
            " conv2d_5 (Conv2D)           (None, 64, 64, 256)       590080    \n",
            "                                                                 \n",
            " activation_5 (Activation)   (None, 64, 64, 256)       0         \n",
            "                                                                 \n",
            " batch_normalization_5 (Batc  (None, 64, 64, 256)      1024      \n",
            " hNormalization)                                                 \n",
            "                                                                 \n",
            " conv2d_6 (Conv2D)           (None, 64, 64, 256)       590080    \n",
            "                                                                 \n",
            " activation_6 (Activation)   (None, 64, 64, 256)       0         \n",
            "                                                                 \n",
            " max_pooling2d_2 (MaxPooling  (None, 32, 32, 256)      0         \n",
            " 2D)                                                             \n",
            "                                                                 \n",
            " batch_normalization_6 (Batc  (None, 32, 32, 256)      1024      \n",
            " hNormalization)                                                 \n",
            "                                                                 \n",
            " conv2d_7 (Conv2D)           (None, 32, 32, 512)       1180160   \n",
            "                                                                 \n",
            " activation_7 (Activation)   (None, 32, 32, 512)       0         \n",
            "                                                                 \n",
            " batch_normalization_7 (Batc  (None, 32, 32, 512)      2048      \n",
            " hNormalization)                                                 \n",
            "                                                                 \n",
            " conv2d_8 (Conv2D)           (None, 32, 32, 512)       2359808   \n",
            "                                                                 \n",
            " activation_8 (Activation)   (None, 32, 32, 512)       0         \n",
            "                                                                 \n",
            " batch_normalization_8 (Batc  (None, 32, 32, 512)      2048      \n",
            " hNormalization)                                                 \n",
            "                                                                 \n",
            " conv2d_9 (Conv2D)           (None, 32, 32, 512)       2359808   \n",
            "                                                                 \n",
            " activation_9 (Activation)   (None, 32, 32, 512)       0         \n",
            "                                                                 \n",
            " max_pooling2d_3 (MaxPooling  (None, 16, 16, 512)      0         \n",
            " 2D)                                                             \n",
            "                                                                 \n",
            " batch_normalization_9 (Batc  (None, 16, 16, 512)      2048      \n",
            " hNormalization)                                                 \n",
            "                                                                 \n",
            " conv2d_10 (Conv2D)          (None, 16, 16, 512)       2359808   \n",
            "                                                                 \n",
            " activation_10 (Activation)  (None, 16, 16, 512)       0         \n",
            "                                                                 \n",
            " batch_normalization_10 (Bat  (None, 16, 16, 512)      2048      \n",
            " chNormalization)                                                \n",
            "                                                                 \n",
            " conv2d_11 (Conv2D)          (None, 16, 16, 512)       2359808   \n",
            "                                                                 \n",
            " activation_11 (Activation)  (None, 16, 16, 512)       0         \n",
            "                                                                 \n",
            " batch_normalization_11 (Bat  (None, 16, 16, 512)      2048      \n",
            " chNormalization)                                                \n",
            "                                                                 \n",
            " conv2d_12 (Conv2D)          (None, 16, 16, 512)       2359808   \n",
            "                                                                 \n",
            " activation_12 (Activation)  (None, 16, 16, 512)       0         \n",
            "                                                                 \n",
            " max_pooling2d_4 (MaxPooling  (None, 8, 8, 512)        0         \n",
            " 2D)                                                             \n",
            "                                                                 \n",
            " batch_normalization_12 (Bat  (None, 8, 8, 512)        2048      \n",
            " chNormalization)                                                \n",
            "                                                                 \n",
            " flatten (Flatten)           (None, 32768)             0         \n",
            "                                                                 \n",
            " dense (Dense)               (None, 4096)              134221824 \n",
            "                                                                 \n",
            " activation_13 (Activation)  (None, 4096)              0         \n",
            "                                                                 \n",
            " batch_normalization_13 (Bat  (None, 4096)             16384     \n",
            " chNormalization)                                                \n",
            "                                                                 \n",
            " dropout (Dropout)           (None, 4096)              0         \n",
            "                                                                 \n",
            " dense_1 (Dense)             (None, 4096)              16781312  \n",
            "                                                                 \n",
            " activation_14 (Activation)  (None, 4096)              0         \n",
            "                                                                 \n",
            " batch_normalization_14 (Bat  (None, 4096)             16384     \n",
            " chNormalization)                                                \n",
            "                                                                 \n",
            " dropout_1 (Dropout)         (None, 4096)              0         \n",
            "                                                                 \n",
            " dense_2 (Dense)             (None, 1000)              4097000   \n",
            "                                                                 \n",
            " activation_15 (Activation)  (None, 1000)              0         \n",
            "                                                                 \n",
            " batch_normalization_15 (Bat  (None, 1000)             4000      \n",
            " chNormalization)                                                \n",
            "                                                                 \n",
            " dropout_2 (Dropout)         (None, 1000)              0         \n",
            "                                                                 \n",
            " dense_3 (Dense)             (None, 2)                 2002      \n",
            "                                                                 \n",
            "=================================================================\n",
            "Total params: 169,869,338\n",
            "Trainable params: 169,842,506\n",
            "Non-trainable params: 26,832\n",
            "_________________________________________________________________\n"
          ]
        }
      ],
      "source": [
        "num_classes=2\n",
        "vgg16=vgg16(num_classes)\n",
        "vgg16.summary()"
      ]
    },
    {
      "cell_type": "code",
      "execution_count": 12,
      "metadata": {
        "id": "eZ0TePWVZTx4",
        "colab": {
          "base_uri": "https://localhost:8080/"
        },
        "outputId": "e0450a8d-0ad8-49fe-b2ab-a26b05580ada"
      },
      "outputs": [
        {
          "output_type": "stream",
          "name": "stdout",
          "text": [
            "Model: \"sequential\"\n",
            "_________________________________________________________________\n",
            " Layer (type)                Output Shape              Param #   \n",
            "=================================================================\n",
            " conv2d (Conv2D)             (None, 256, 256, 64)      640       \n",
            "                                                                 \n",
            " activation (Activation)     (None, 256, 256, 64)      0         \n",
            "                                                                 \n",
            " batch_normalization (BatchN  (None, 256, 256, 64)     256       \n",
            " ormalization)                                                   \n",
            "                                                                 \n",
            " conv2d_1 (Conv2D)           (None, 256, 256, 64)      36928     \n",
            "                                                                 \n",
            " activation_1 (Activation)   (None, 256, 256, 64)      0         \n",
            "                                                                 \n",
            " max_pooling2d (MaxPooling2D  (None, 128, 128, 64)     0         \n",
            " )                                                               \n",
            "                                                                 \n",
            " batch_normalization_1 (Batc  (None, 128, 128, 64)     256       \n",
            " hNormalization)                                                 \n",
            "                                                                 \n",
            " conv2d_2 (Conv2D)           (None, 128, 128, 128)     73856     \n",
            "                                                                 \n",
            " activation_2 (Activation)   (None, 128, 128, 128)     0         \n",
            "                                                                 \n",
            " batch_normalization_2 (Batc  (None, 128, 128, 128)    512       \n",
            " hNormalization)                                                 \n",
            "                                                                 \n",
            " conv2d_3 (Conv2D)           (None, 128, 128, 128)     147584    \n",
            "                                                                 \n",
            " activation_3 (Activation)   (None, 128, 128, 128)     0         \n",
            "                                                                 \n",
            " max_pooling2d_1 (MaxPooling  (None, 64, 64, 128)      0         \n",
            " 2D)                                                             \n",
            "                                                                 \n",
            " batch_normalization_3 (Batc  (None, 64, 64, 128)      512       \n",
            " hNormalization)                                                 \n",
            "                                                                 \n",
            " conv2d_4 (Conv2D)           (None, 64, 64, 256)       295168    \n",
            "                                                                 \n",
            " activation_4 (Activation)   (None, 64, 64, 256)       0         \n",
            "                                                                 \n",
            " batch_normalization_4 (Batc  (None, 64, 64, 256)      1024      \n",
            " hNormalization)                                                 \n",
            "                                                                 \n",
            " conv2d_5 (Conv2D)           (None, 64, 64, 256)       590080    \n",
            "                                                                 \n",
            " activation_5 (Activation)   (None, 64, 64, 256)       0         \n",
            "                                                                 \n",
            " batch_normalization_5 (Batc  (None, 64, 64, 256)      1024      \n",
            " hNormalization)                                                 \n",
            "                                                                 \n",
            " conv2d_6 (Conv2D)           (None, 64, 64, 256)       590080    \n",
            "                                                                 \n",
            " activation_6 (Activation)   (None, 64, 64, 256)       0         \n",
            "                                                                 \n",
            " max_pooling2d_2 (MaxPooling  (None, 32, 32, 256)      0         \n",
            " 2D)                                                             \n",
            "                                                                 \n",
            " batch_normalization_6 (Batc  (None, 32, 32, 256)      1024      \n",
            " hNormalization)                                                 \n",
            "                                                                 \n",
            " conv2d_7 (Conv2D)           (None, 32, 32, 512)       1180160   \n",
            "                                                                 \n",
            " activation_7 (Activation)   (None, 32, 32, 512)       0         \n",
            "                                                                 \n",
            " batch_normalization_7 (Batc  (None, 32, 32, 512)      2048      \n",
            " hNormalization)                                                 \n",
            "                                                                 \n",
            " conv2d_8 (Conv2D)           (None, 32, 32, 512)       2359808   \n",
            "                                                                 \n",
            " activation_8 (Activation)   (None, 32, 32, 512)       0         \n",
            "                                                                 \n",
            " batch_normalization_8 (Batc  (None, 32, 32, 512)      2048      \n",
            " hNormalization)                                                 \n",
            "                                                                 \n",
            " conv2d_9 (Conv2D)           (None, 32, 32, 512)       2359808   \n",
            "                                                                 \n",
            " activation_9 (Activation)   (None, 32, 32, 512)       0         \n",
            "                                                                 \n",
            " max_pooling2d_3 (MaxPooling  (None, 16, 16, 512)      0         \n",
            " 2D)                                                             \n",
            "                                                                 \n",
            " batch_normalization_9 (Batc  (None, 16, 16, 512)      2048      \n",
            " hNormalization)                                                 \n",
            "                                                                 \n",
            " conv2d_10 (Conv2D)          (None, 16, 16, 512)       2359808   \n",
            "                                                                 \n",
            " activation_10 (Activation)  (None, 16, 16, 512)       0         \n",
            "                                                                 \n",
            " batch_normalization_10 (Bat  (None, 16, 16, 512)      2048      \n",
            " chNormalization)                                                \n",
            "                                                                 \n",
            " conv2d_11 (Conv2D)          (None, 16, 16, 512)       2359808   \n",
            "                                                                 \n",
            " activation_11 (Activation)  (None, 16, 16, 512)       0         \n",
            "                                                                 \n",
            " batch_normalization_11 (Bat  (None, 16, 16, 512)      2048      \n",
            " chNormalization)                                                \n",
            "                                                                 \n",
            " conv2d_12 (Conv2D)          (None, 16, 16, 512)       2359808   \n",
            "                                                                 \n",
            " activation_12 (Activation)  (None, 16, 16, 512)       0         \n",
            "                                                                 \n",
            " max_pooling2d_4 (MaxPooling  (None, 8, 8, 512)        0         \n",
            " 2D)                                                             \n",
            "                                                                 \n",
            " batch_normalization_12 (Bat  (None, 8, 8, 512)        2048      \n",
            " chNormalization)                                                \n",
            "                                                                 \n",
            " flatten (Flatten)           (None, 32768)             0         \n",
            "                                                                 \n",
            " dense (Dense)               (None, 4096)              134221824 \n",
            "                                                                 \n",
            " activation_13 (Activation)  (None, 4096)              0         \n",
            "                                                                 \n",
            " batch_normalization_13 (Bat  (None, 4096)             16384     \n",
            " chNormalization)                                                \n",
            "                                                                 \n",
            " dropout (Dropout)           (None, 4096)              0         \n",
            "                                                                 \n",
            " dense_1 (Dense)             (None, 4096)              16781312  \n",
            "                                                                 \n",
            " activation_14 (Activation)  (None, 4096)              0         \n",
            "                                                                 \n",
            " batch_normalization_14 (Bat  (None, 4096)             16384     \n",
            " chNormalization)                                                \n",
            "                                                                 \n",
            " dropout_1 (Dropout)         (None, 4096)              0         \n",
            "                                                                 \n",
            " dense_2 (Dense)             (None, 1000)              4097000   \n",
            "                                                                 \n",
            " activation_15 (Activation)  (None, 1000)              0         \n",
            "                                                                 \n",
            " batch_normalization_15 (Bat  (None, 1000)             4000      \n",
            " chNormalization)                                                \n",
            "                                                                 \n",
            " dropout_2 (Dropout)         (None, 1000)              0         \n",
            "                                                                 \n",
            " dense_3 (Dense)             (None, 2)                 2002      \n",
            "                                                                 \n",
            "=================================================================\n",
            "Total params: 169,869,338\n",
            "Trainable params: 169,842,506\n",
            "Non-trainable params: 26,832\n",
            "_________________________________________________________________\n"
          ]
        },
        {
          "output_type": "stream",
          "name": "stderr",
          "text": [
            "/usr/local/lib/python3.7/dist-packages/keras/optimizer_v2/adam.py:105: UserWarning: The `lr` argument is deprecated, use `learning_rate` instead.\n",
            "  super(Adam, self).__init__(name, **kwargs)\n"
          ]
        }
      ],
      "source": [
        "opt = Adam(lr=0.0001)\n",
        "vgg16.compile(loss='categorical_crossentropy', optimizer=opt, metrics=['accuracy'])\n",
        "vgg16.summary()"
      ]
    },
    {
      "cell_type": "code",
      "execution_count": 13,
      "metadata": {
        "colab": {
          "base_uri": "https://localhost:8080/"
        },
        "id": "JOp0TzHxZYLf",
        "outputId": "6e58beaf-8201-4c55-e4d9-629d63c3b926"
      },
      "outputs": [
        {
          "output_type": "stream",
          "name": "stdout",
          "text": [
            "Epoch 1/30\n",
            "159/159 [==============================] - 77s 384ms/step - loss: 0.4691 - accuracy: 0.8586 - val_loss: 8.7793 - val_accuracy: 0.4748\n",
            "Epoch 2/30\n",
            "159/159 [==============================] - 55s 344ms/step - loss: 0.3958 - accuracy: 0.8898 - val_loss: 11.8977 - val_accuracy: 0.4748\n",
            "Epoch 3/30\n",
            "159/159 [==============================] - 56s 350ms/step - loss: 0.4019 - accuracy: 0.8886 - val_loss: 9.6712 - val_accuracy: 0.4748\n",
            "Epoch 4/30\n",
            "159/159 [==============================] - 57s 356ms/step - loss: 0.3220 - accuracy: 0.8973 - val_loss: 0.2574 - val_accuracy: 0.9306\n",
            "Epoch 5/30\n",
            "159/159 [==============================] - 57s 359ms/step - loss: 0.3335 - accuracy: 0.8997 - val_loss: 0.2048 - val_accuracy: 0.9290\n",
            "Epoch 6/30\n",
            "159/159 [==============================] - 58s 362ms/step - loss: 0.3086 - accuracy: 0.9060 - val_loss: 0.2077 - val_accuracy: 0.9338\n",
            "Epoch 7/30\n",
            "159/159 [==============================] - 58s 365ms/step - loss: 0.2537 - accuracy: 0.9242 - val_loss: 0.2167 - val_accuracy: 0.9274\n",
            "Epoch 8/30\n",
            "159/159 [==============================] - 58s 366ms/step - loss: 0.2078 - accuracy: 0.9265 - val_loss: 0.3541 - val_accuracy: 0.8722\n",
            "Epoch 9/30\n",
            "159/159 [==============================] - 58s 366ms/step - loss: 0.2612 - accuracy: 0.9230 - val_loss: 0.3455 - val_accuracy: 0.9117\n",
            "Epoch 10/30\n",
            "159/159 [==============================] - 58s 367ms/step - loss: 0.3009 - accuracy: 0.9060 - val_loss: 0.1875 - val_accuracy: 0.9416\n",
            "Epoch 11/30\n",
            "159/159 [==============================] - 58s 367ms/step - loss: 0.2019 - accuracy: 0.9309 - val_loss: 0.1382 - val_accuracy: 0.9495\n",
            "Epoch 12/30\n",
            "159/159 [==============================] - 60s 376ms/step - loss: 0.1808 - accuracy: 0.9364 - val_loss: 0.1642 - val_accuracy: 0.9479\n",
            "Epoch 13/30\n",
            "159/159 [==============================] - 58s 366ms/step - loss: 0.1971 - accuracy: 0.9340 - val_loss: 0.1951 - val_accuracy: 0.9306\n",
            "Epoch 14/30\n",
            "159/159 [==============================] - 58s 367ms/step - loss: 0.1637 - accuracy: 0.9412 - val_loss: 0.1845 - val_accuracy: 0.9385\n",
            "Epoch 15/30\n",
            "159/159 [==============================] - 58s 367ms/step - loss: 0.1228 - accuracy: 0.9538 - val_loss: 0.2147 - val_accuracy: 0.9432\n",
            "Epoch 16/30\n",
            "159/159 [==============================] - 58s 368ms/step - loss: 0.1360 - accuracy: 0.9558 - val_loss: 0.1652 - val_accuracy: 0.9543\n",
            "Epoch 17/30\n",
            "159/159 [==============================] - 58s 368ms/step - loss: 0.1237 - accuracy: 0.9585 - val_loss: 0.2677 - val_accuracy: 0.9353\n",
            "Epoch 18/30\n",
            "159/159 [==============================] - 58s 368ms/step - loss: 0.1502 - accuracy: 0.9459 - val_loss: 0.2010 - val_accuracy: 0.9401\n",
            "Epoch 19/30\n",
            "159/159 [==============================] - 58s 368ms/step - loss: 0.1574 - accuracy: 0.9479 - val_loss: 0.1908 - val_accuracy: 0.9495\n",
            "Epoch 20/30\n",
            "159/159 [==============================] - 58s 367ms/step - loss: 0.1086 - accuracy: 0.9633 - val_loss: 0.1718 - val_accuracy: 0.9558\n",
            "Epoch 21/30\n",
            "159/159 [==============================] - 58s 368ms/step - loss: 0.1236 - accuracy: 0.9601 - val_loss: 0.1694 - val_accuracy: 0.9353\n",
            "Epoch 22/30\n",
            "159/159 [==============================] - 58s 367ms/step - loss: 0.1238 - accuracy: 0.9546 - val_loss: 0.1495 - val_accuracy: 0.9527\n",
            "Epoch 23/30\n",
            "159/159 [==============================] - 58s 367ms/step - loss: 0.0939 - accuracy: 0.9660 - val_loss: 0.2088 - val_accuracy: 0.9511\n",
            "Epoch 24/30\n",
            "159/159 [==============================] - 59s 368ms/step - loss: 0.1382 - accuracy: 0.9522 - val_loss: 0.4253 - val_accuracy: 0.8565\n",
            "Epoch 25/30\n",
            "159/159 [==============================] - 58s 368ms/step - loss: 0.0818 - accuracy: 0.9672 - val_loss: 0.2688 - val_accuracy: 0.9117\n",
            "Epoch 26/30\n",
            "159/159 [==============================] - 59s 368ms/step - loss: 0.0761 - accuracy: 0.9727 - val_loss: 0.2430 - val_accuracy: 0.9274\n",
            "Epoch 27/30\n",
            "159/159 [==============================] - 59s 368ms/step - loss: 0.0977 - accuracy: 0.9688 - val_loss: 0.2291 - val_accuracy: 0.9448\n",
            "Epoch 28/30\n",
            "159/159 [==============================] - 59s 368ms/step - loss: 0.0721 - accuracy: 0.9755 - val_loss: 0.3770 - val_accuracy: 0.9432\n",
            "Epoch 29/30\n",
            "159/159 [==============================] - 59s 368ms/step - loss: 0.0395 - accuracy: 0.9866 - val_loss: 0.2749 - val_accuracy: 0.9259\n",
            "Epoch 30/30\n",
            "159/159 [==============================] - 58s 368ms/step - loss: 0.1127 - accuracy: 0.9652 - val_loss: 0.1835 - val_accuracy: 0.9401\n"
          ]
        }
      ],
      "source": [
        "#training data\n",
        "H = vgg16.fit(trainX, trainY, validation_data=(testX, testY), epochs=30, batch_size=16)"
      ]
    },
    {
      "cell_type": "code",
      "execution_count": 14,
      "metadata": {
        "id": "qjoEfHoWsr9H",
        "colab": {
          "base_uri": "https://localhost:8080/"
        },
        "outputId": "8814c7f4-4989-4dd2-c2f0-c4c297ab72c3"
      },
      "outputs": [
        {
          "output_type": "stream",
          "name": "stdout",
          "text": [
            "[INFO] evaluating network...\n"
          ]
        }
      ],
      "source": [
        "print(\"[INFO] evaluating network...\")\n",
        "predictions = vgg16.predict(testX, batch_size=16)\n",
        "pred=predictions.argmax(axis=1)\n",
        "testY_argm=testY.argmax(axis=1)\n"
      ]
    },
    {
      "cell_type": "code",
      "execution_count": 15,
      "metadata": {
        "id": "Po9wqNIMts7s",
        "colab": {
          "base_uri": "https://localhost:8080/"
        },
        "outputId": "b7cac721-8460-47be-e990-1b68dc9f5bfc"
      },
      "outputs": [
        {
          "output_type": "stream",
          "name": "stdout",
          "text": [
            "              precision    recall  f1-score   support\n",
            "\n",
            "      Normal       0.95      0.92      0.94       301\n",
            "   Pneumonia       0.93      0.95      0.94       333\n",
            "\n",
            "    accuracy                           0.94       634\n",
            "   macro avg       0.94      0.94      0.94       634\n",
            "weighted avg       0.94      0.94      0.94       634\n",
            "\n"
          ]
        }
      ],
      "source": [
        "print(classification_report(testY_argm,pred,target_names=lb.classes_))"
      ]
    },
    {
      "cell_type": "code",
      "execution_count": 16,
      "metadata": {
        "id": "5NSJXylrt1ND",
        "colab": {
          "base_uri": "https://localhost:8080/"
        },
        "outputId": "939e343c-2b71-4d13-8f36-2211b5d31625"
      },
      "outputs": [
        {
          "output_type": "stream",
          "name": "stdout",
          "text": [
            "20/20 [==============================] - 18s 538ms/step - loss: 0.1835 - accuracy: 0.9401\n",
            "Test Loss 0.1835, accuracy 94.01%\n"
          ]
        }
      ],
      "source": [
        "test_score = vgg16.evaluate(testX, testY) \n",
        "print(\"Test Loss {:.4f}, accuracy {:.2f}%\".format(test_score[0], test_score[1] * 100))"
      ]
    },
    {
      "cell_type": "code",
      "execution_count": 17,
      "metadata": {
        "id": "ZS-FXHa6uI6H"
      },
      "outputs": [],
      "source": [
        "from sklearn.metrics import confusion_matrix\n",
        "import itertools\n",
        "\n",
        "def plot_confusion_matrix(cm, classes, normalize=False, title='Confusion matrix', cmap='Blues'):\n",
        "  if normalize:\n",
        "     cm = cm.astype('float') / cm.sum(axis=1)[:, np.newaxis]\n",
        "     print(\"Normalized confusion matrix\")\n",
        "  else:\n",
        "     print('Confusion matrix, without normalization')\n",
        "  print(cm)\n",
        "  plt.imshow(cm, interpolation='nearest', cmap=cmap)\n",
        "  plt.title(title)\n",
        "  plt.colorbar()\n",
        "  tick_marks = np.arange(len(classes))\n",
        "  plt.xticks(tick_marks, classes, rotation=45)\n",
        "  plt.yticks(tick_marks, classes)\n",
        "  fmt = '.2f' if normalize else 'd'\n",
        "  thresh = cm.max() / 2.\n",
        "  for i, j in itertools.product(range(cm.shape[0]), range(cm.shape[1])):\n",
        "      plt.text(j, i, format(cm[i, j], fmt), horizontalalignment=\"center\", color=\"white\" if cm[i, j] > thresh else \"black\")\n",
        "  plt.ylabel('True label')\n",
        "  plt.xlabel('Predicted label')\n",
        "  plt.tight_layout()"
      ]
    },
    {
      "cell_type": "code",
      "execution_count": 18,
      "metadata": {
        "id": "eiYstz9xuRLx",
        "colab": {
          "base_uri": "https://localhost:8080/",
          "height": 1000
        },
        "outputId": "a7d70d68-fe0c-4e16-8aa2-40fac59dd481"
      },
      "outputs": [
        {
          "output_type": "stream",
          "name": "stdout",
          "text": [
            "Normalized confusion matrix\n",
            "[[0.92 0.08]\n",
            " [0.05 0.95]]\n"
          ]
        },
        {
          "output_type": "display_data",
          "data": {
            "text/plain": [
              "<Figure size 432x288 with 2 Axes>"
            ],
            "image/png": "[encoded data removed]"
          },
          "metadata": {
            "needs_background": "light"
          }
        },
        {
          "output_type": "stream",
          "name": "stdout",
          "text": [
            "Confusion matrix, without normalization\n",
            "[[278  23]\n",
            " [ 15 318]]\n"
          ]
        },
        {
          "output_type": "display_data",
          "data": {
            "text/plain": [
              "<Figure size 432x288 with 2 Axes>"
            ],
            "image/png": "[encoded data removed]"
          },
          "metadata": {
            "needs_background": "light"
          }
        },
        {
          "output_type": "display_data",
          "data": {
            "text/plain": [
              "<Figure size 432x288 with 1 Axes>"
            ],
            "image/png": "[encoded data removed]"
          },
          "metadata": {
            "needs_background": "light"
          }
        },
        {
          "output_type": "display_data",
          "data": {
            "text/plain": [
              "<Figure size 432x288 with 1 Axes>"
            ],
            "image/png": "[encoded data removed]"
          },
          "metadata": {
            "needs_background": "light"
          }
        }
      ],
      "source": [
        "cnf_matrix = confusion_matrix(testY_argm, pred)\n",
        "np.set_printoptions(precision=2)\n",
        "\n",
        "# Plot non/normalized confusion matrix\n",
        "plt.figure()\n",
        "plot_confusion_matrix(cnf_matrix,\n",
        "classes=lb.classes_, normalize=True)\n",
        "plt.show()\n",
        "\n",
        "plt.figure()\n",
        "plot_confusion_matrix(cnf_matrix,\n",
        "classes=lb.classes_, normalize=False)\n",
        "plt.show()\n",
        "\n",
        "f, ax = plt.subplots()\n",
        "ax.plot([None] + H.history['accuracy'], 'o-')\n",
        "ax.plot([None] + H.history['val_accuracy'], 'x-')\n",
        "\n",
        "ax.legend(['Train acc', 'Validation acc'], loc = 0)\n",
        "ax.set_title('Training/Validation acc per Epoch')\n",
        "ax.set_xlabel('Epoch')\n",
        "ax.set_ylabel('acc')\n",
        "plt.grid(True)\n",
        "\n",
        "f, ax = plt.subplots()\n",
        "ax.plot([None] + H.history['loss'], 'o-')\n",
        "ax.plot([None] + H.history['val_loss'], 'x-')\n",
        "ax.legend(['Train Loss', 'Validation Loss'], loc = 0)\n",
        "ax.set_title('Training/Validation Loss per Epoch')\n",
        "ax.set_xlabel('Epoch')\n",
        "ax.set_ylabel('loss')\n",
        "plt.grid(True)"
      ]
    }
  ],
  "metadata": {
    "accelerator": "GPU",
    "colab": {
      "collapsed_sections": [],
      "provenance": [],
      "include_colab_link": true
    },
    "gpuClass": "standard",
    "kernelspec": {
      "display_name": "Python 3",
      "name": "python3"
    },
    "language_info": {
      "name": "python"
    }
  },
  "nbformat": 4,
  "nbformat_minor": 0
}