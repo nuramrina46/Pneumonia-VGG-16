{
  "cells": [
    {
      "cell_type": "markdown",
      "metadata": {
        "id": "view-in-github",
        "colab_type": "text"
      },
      "source": [
        "<a href=\"https://colab.research.google.com/github/nuramrina46/Tugas-Akhir/blob/main/Optimizer/sgd.ipynb\" target=\"_parent\"><img src=\"https://colab.research.google.com/assets/colab-badge.svg\" alt=\"Open In Colab\"/></a>"
      ]
    },
    {
      "cell_type": "code",
      "execution_count": null,
      "metadata": {
        "colab": {
          "base_uri": "https://localhost:8080/"
        },
        "id": "2_RYo7hrXaC5",
        "outputId": "6825fcc6-b5eb-40c7-ac05-f2a713ec7dba"
      },
      "outputs": [
        {
          "output_type": "stream",
          "name": "stdout",
          "text": [
            "Mounted at /content/drive\n"
          ]
        }
      ],
      "source": [
        "from google.colab import drive\n",
        "drive.mount('/content/drive')"
      ]
    },
    {
      "cell_type": "code",
      "execution_count": null,
      "metadata": {
        "colab": {
          "base_uri": "https://localhost:8080/"
        },
        "id": "G4aisxOFX3KH",
        "outputId": "b18f70cb-5a63-448a-d269-d937a4ca415e"
      },
      "outputs": [
        {
          "output_type": "stream",
          "name": "stdout",
          "text": [
            "/content/drive/My Drive/Colab Notebooks\n"
          ]
        }
      ],
      "source": [
        "cd /content/drive/My Drive/Colab Notebooks"
      ]
    },
    {
      "cell_type": "code",
      "execution_count": null,
      "metadata": {
        "colab": {
          "base_uri": "https://localhost:8080/"
        },
        "id": "e_oGUrADX8O_",
        "outputId": "44a6ef52-7b4d-4954-a3a3-8002e12795fd"
      },
      "outputs": [
        {
          "output_type": "stream",
          "name": "stdout",
          "text": [
            " \u001b[0m\u001b[01;34mPNEUMONIA\u001b[0m/  'pneumonia_VGG_16_fiX (4).ipynb'  \u001b[01;34m'Untitled folder'\u001b[0m/\n"
          ]
        }
      ],
      "source": [
        "ls"
      ]
    },
    {
      "cell_type": "code",
      "execution_count": null,
      "metadata": {
        "id": "t95OxlI7X_OF"
      },
      "outputs": [],
      "source": [
        "from keras.models import Model\n",
        "from keras.models import load_model\n",
        "from keras.models import Sequential\n",
        "from keras.layers.convolutional import Convolution2D\n",
        "from keras.layers.convolutional import MaxPooling2D\n",
        "from keras.layers.convolutional import ZeroPadding2D\n",
        "from keras.layers.core import Activation\n",
        "from keras.layers.core import Flatten\n",
        "from keras.layers.core import Dense\n",
        "from keras.layers.core import Dropout\n",
        "from keras.layers import BatchNormalization\n",
        "from keras import regularizers\n",
        "from keras.preprocessing.image import ImageDataGenerator\n",
        "from tensorflow.keras.optimizers import RMSprop, Adam, SGD\n",
        "from sklearn.preprocessing import LabelBinarizer\n",
        "from sklearn.model_selection import train_test_split\n",
        "from sklearn.metrics import classification_report\n",
        "from PIL import Image\n",
        "from matplotlib import pyplot as plt\n",
        "from imutils import paths\n",
        "import numpy as np\n",
        "import os"
      ]
    },
    {
      "cell_type": "code",
      "execution_count": null,
      "metadata": {
        "colab": {
          "base_uri": "https://localhost:8080/"
        },
        "id": "jvn693i-YDZ8",
        "outputId": "d96f3488-2063-4331-8af1-3a3600546b72"
      },
      "outputs": [
        {
          "output_type": "stream",
          "name": "stdout",
          "text": [
            "[INFO] loading images...\n"
          ]
        }
      ],
      "source": [
        "print(\"[INFO] loading images...\")\n",
        "imagePaths = paths.list_images(\"PNEUMONIA\")\n",
        "data = []\n",
        "labels = []"
      ]
    },
    {
      "cell_type": "code",
      "execution_count": null,
      "metadata": {
        "id": "3XLuWAZsYLfK"
      },
      "outputs": [],
      "source": [
        "for imagePaths in imagePaths:\n",
        "    a = Image.open(imagePaths)\n",
        "    image = np.array(a.resize((128,128))) / 255.0\n",
        "    data.append(image)\n",
        "    \n",
        "    label = imagePaths.split(os.path.sep) [-2]\n",
        "    labels.append(label)"
      ]
    },
    {
      "cell_type": "code",
      "execution_count": null,
      "metadata": {
        "colab": {
          "base_uri": "https://localhost:8080/"
        },
        "id": "LocmKeyCUn_0",
        "outputId": "bb5c6004-6b8b-40b6-a17e-7700e9f09399"
      },
      "outputs": [
        {
          "output_type": "stream",
          "name": "stdout",
          "text": [
            "(3166, 128, 128, 1)\n"
          ]
        }
      ],
      "source": [
        "temp = np.array(data)\n",
        "temp = np.expand_dims(temp, axis=3)\n",
        "print(temp.shape)"
      ]
    },
    {
      "cell_type": "code",
      "execution_count": null,
      "metadata": {
        "colab": {
          "base_uri": "https://localhost:8080/"
        },
        "id": "gnjyPDi_Yyrn",
        "outputId": "a0d34f3a-eebf-4c51-ce07-e91cc316041d"
      },
      "outputs": [
        {
          "output_type": "stream",
          "name": "stdout",
          "text": [
            "[[0 1]\n",
            " [0 1]\n",
            " [0 1]\n",
            " ...\n",
            " [1 0]\n",
            " [1 0]\n",
            " [1 0]]\n"
          ]
        }
      ],
      "source": [
        "from sklearn.preprocessing import LabelBinarizer\n",
        "import numpy as np\n",
        "\n",
        "class MyLabelBinarizer(LabelBinarizer):\n",
        "    def transform(self, label):\n",
        "      nilaiy = super().transform(label)\n",
        "      if self.y_type_== 'binary':\n",
        "        return np.hstack((nilaiy, 1-nilaiy))\n",
        "      else:\n",
        "        return nilaiy\n",
        "    def inverse_transform(self, nilaiy, threshold=None):\n",
        "      if self.y_type_ == 'binary':\n",
        "          return super().inverse_transform(nilaiy[:, 0], threshold)\n",
        "      else:\n",
        "          return super().inverse_transform(nilaiy, threshold)\n",
        "\n",
        "      \n",
        "\n",
        "lb = MyLabelBinarizer()\n",
        "labels = lb.fit_transform(labels)\n",
        "print(labels)"
      ]
    },
    {
      "cell_type": "code",
      "execution_count": null,
      "metadata": {
        "colab": {
          "base_uri": "https://localhost:8080/"
        },
        "id": "0V3CnlQtY1g2",
        "outputId": "b24d8d4e-a023-4700-e507-258aaf93f964"
      },
      "outputs": [
        {
          "output_type": "stream",
          "name": "stdout",
          "text": [
            "(2532, 128, 128)\n",
            "(634, 128, 128)\n"
          ]
        }
      ],
      "source": [
        "(trainX,testX, trainY, testY) = train_test_split(np.array(data),np.array(labels), test_size=0.20, random_state=0)\n",
        "print(trainX.shape)\n",
        "print(testX.shape)"
      ]
    },
    {
      "cell_type": "code",
      "execution_count": null,
      "metadata": {
        "id": "WpeYjXzUZCZP"
      },
      "outputs": [],
      "source": [
        "def vgg16(num_classes):\n",
        "\n",
        "    vgg16 = Sequential()\n",
        "\n",
        "    vgg16.add(Convolution2D(input_shape=(128,128,1),filters=64,kernel_size=(3,3),padding=\"same\"))\n",
        "    vgg16.add(Activation('relu'))\n",
        "    vgg16.add(BatchNormalization())\n",
        "    #layer1 32*32*64\n",
        "    vgg16.add(Convolution2D(filters=64,kernel_size=(3,3),padding=\"same\"))\n",
        "    vgg16.add(Activation('relu'))\n",
        "    vgg16.add(MaxPooling2D(pool_size=(2, 2),strides=(2,2)))\n",
        "    vgg16.add(BatchNormalization())\n",
        "    #layer2 16*16*64\n",
        "    vgg16.add(Convolution2D(filters=128, kernel_size=(3,3), padding=\"same\"))\n",
        "    vgg16.add(Activation('relu'))\n",
        "    vgg16.add(BatchNormalization())\n",
        "    #layer3 16*16*128\n",
        "    vgg16.add(Convolution2D(filters=128, kernel_size=(3,3), padding=\"same\",))\n",
        "    vgg16.add(Activation('relu'))\n",
        "    vgg16.add(MaxPooling2D(pool_size=(2,2),strides=(2,2)))\n",
        "    vgg16.add(BatchNormalization())\n",
        "    #layer4 8*8*128\n",
        "    vgg16.add(Convolution2D(filters=256, kernel_size=(3,3), padding=\"same\"))\n",
        "    vgg16.add(Activation('relu'))\n",
        "    vgg16.add(BatchNormalization())\n",
        "    #layer5 8*8*256\n",
        "    vgg16.add(Convolution2D(filters=256, kernel_size=(3,3), padding=\"same\"))\n",
        "    vgg16.add(Activation('relu'))\n",
        "    vgg16.add(BatchNormalization())\n",
        "    #layer6 8*8*256\n",
        "    vgg16.add(Convolution2D(filters=256, kernel_size=(3,3), padding=\"same\"))\n",
        "    vgg16.add(Activation('relu'))\n",
        "    vgg16.add(MaxPooling2D(pool_size=(2,2),strides=(2,2)))\n",
        "    vgg16.add(BatchNormalization())\n",
        "    #layer7 4*4*256\n",
        "    vgg16.add(Convolution2D(filters=512, kernel_size=(3,3), padding=\"same\"))\n",
        "    vgg16.add(Activation('relu'))\n",
        "    vgg16.add(BatchNormalization())\n",
        "    #layer8 4*4*512\n",
        "    vgg16.add(Convolution2D(filters=512, kernel_size=(3,3), padding=\"same\"))\n",
        "    vgg16.add(Activation('relu'))\n",
        "    vgg16.add(BatchNormalization())\n",
        "    #layer9 4*4*512\n",
        "    vgg16.add(Convolution2D(filters=512, kernel_size=(3,3), padding=\"same\"))\n",
        "    vgg16.add(Activation('relu'))\n",
        "    vgg16.add(MaxPooling2D(pool_size=(2,2),strides=(2,2)))\n",
        "    vgg16.add(BatchNormalization())\n",
        "    #layer10 2*2*512\n",
        "    vgg16.add(Convolution2D(filters=512, kernel_size=(3,3), padding=\"same\"))\n",
        "    vgg16.add(Activation('relu'))\n",
        "    vgg16.add(BatchNormalization())\n",
        "    #layer11 2*2*512\n",
        "    vgg16.add(Convolution2D(filters=512, kernel_size=(3,3), padding=\"same\"))  \n",
        "    vgg16.add(Activation('relu')) \n",
        "    vgg16.add(BatchNormalization())       \n",
        "    #layer12 2*2*512\n",
        "    vgg16.add(Convolution2D(filters=512, kernel_size=(3,3), padding=\"same\"))\n",
        "    vgg16.add(Activation('relu'))\n",
        "    vgg16.add(MaxPooling2D(pool_size=(2,2),strides=(2,2)))\n",
        "    vgg16.add(BatchNormalization())\n",
        "    #layer13 1*1*512\n",
        "    vgg16.add(Flatten())\n",
        "    vgg16.add(Dense(units=4096))\n",
        "    vgg16.add(Activation('relu')) \n",
        "    vgg16.add(BatchNormalization())\n",
        "    vgg16.add(Dropout(0.5))\n",
        "    #layer14 4096\n",
        "    vgg16.add(Dense(units=4096))\n",
        "    vgg16.add(Activation('relu')) \n",
        "    vgg16.add(BatchNormalization())\n",
        "    vgg16.add(Dropout(0.5))\n",
        "    #layer16 4096\n",
        "    vgg16.add(Dense(units=1000))\n",
        "    vgg16.add(Activation('relu'))\n",
        "    vgg16.add(BatchNormalization())\n",
        "    vgg16.add(Dropout(0.5)) \n",
        "    #layer16 1000\n",
        "    vgg16.add(Dense(2, activation=\"softmax\"))\n",
        "\n",
        "    return vgg16"
      ]
    },
    {
      "cell_type": "code",
      "execution_count": null,
      "metadata": {
        "colab": {
          "base_uri": "https://localhost:8080/"
        },
        "id": "rlT3OhVuZLUs",
        "outputId": "b568ccc0-25f8-402d-a53f-37eafa53b9b5"
      },
      "outputs": [
        {
          "output_type": "stream",
          "name": "stdout",
          "text": [
            "Model: \"sequential\"\n",
            "_________________________________________________________________\n",
            " Layer (type)                Output Shape              Param #   \n",
            "=================================================================\n",
            " conv2d (Conv2D)             (None, 128, 128, 64)      640       \n",
            "                                                                 \n",
            " activation (Activation)     (None, 128, 128, 64)      0         \n",
            "                                                                 \n",
            " batch_normalization (BatchN  (None, 128, 128, 64)     256       \n",
            " ormalization)                                                   \n",
            "                                                                 \n",
            " conv2d_1 (Conv2D)           (None, 128, 128, 64)      36928     \n",
            "                                                                 \n",
            " activation_1 (Activation)   (None, 128, 128, 64)      0         \n",
            "                                                                 \n",
            " max_pooling2d (MaxPooling2D  (None, 64, 64, 64)       0         \n",
            " )                                                               \n",
            "                                                                 \n",
            " batch_normalization_1 (Batc  (None, 64, 64, 64)       256       \n",
            " hNormalization)                                                 \n",
            "                                                                 \n",
            " conv2d_2 (Conv2D)           (None, 64, 64, 128)       73856     \n",
            "                                                                 \n",
            " activation_2 (Activation)   (None, 64, 64, 128)       0         \n",
            "                                                                 \n",
            " batch_normalization_2 (Batc  (None, 64, 64, 128)      512       \n",
            " hNormalization)                                                 \n",
            "                                                                 \n",
            " conv2d_3 (Conv2D)           (None, 64, 64, 128)       147584    \n",
            "                                                                 \n",
            " activation_3 (Activation)   (None, 64, 64, 128)       0         \n",
            "                                                                 \n",
            " max_pooling2d_1 (MaxPooling  (None, 32, 32, 128)      0         \n",
            " 2D)                                                             \n",
            "                                                                 \n",
            " batch_normalization_3 (Batc  (None, 32, 32, 128)      512       \n",
            " hNormalization)                                                 \n",
            "                                                                 \n",
            " conv2d_4 (Conv2D)           (None, 32, 32, 256)       295168    \n",
            "                                                                 \n",
            " activation_4 (Activation)   (None, 32, 32, 256)       0         \n",
            "                                                                 \n",
            " batch_normalization_4 (Batc  (None, 32, 32, 256)      1024      \n",
            " hNormalization)                                                 \n",
            "                                                                 \n",
            " conv2d_5 (Conv2D)           (None, 32, 32, 256)       590080    \n",
            "                                                                 \n",
            " activation_5 (Activation)   (None, 32, 32, 256)       0         \n",
            "                                                                 \n",
            " batch_normalization_5 (Batc  (None, 32, 32, 256)      1024      \n",
            " hNormalization)                                                 \n",
            "                                                                 \n",
            " conv2d_6 (Conv2D)           (None, 32, 32, 256)       590080    \n",
            "                                                                 \n",
            " activation_6 (Activation)   (None, 32, 32, 256)       0         \n",
            "                                                                 \n",
            " max_pooling2d_2 (MaxPooling  (None, 16, 16, 256)      0         \n",
            " 2D)                                                             \n",
            "                                                                 \n",
            " batch_normalization_6 (Batc  (None, 16, 16, 256)      1024      \n",
            " hNormalization)                                                 \n",
            "                                                                 \n",
            " conv2d_7 (Conv2D)           (None, 16, 16, 512)       1180160   \n",
            "                                                                 \n",
            " activation_7 (Activation)   (None, 16, 16, 512)       0         \n",
            "                                                                 \n",
            " batch_normalization_7 (Batc  (None, 16, 16, 512)      2048      \n",
            " hNormalization)                                                 \n",
            "                                                                 \n",
            " conv2d_8 (Conv2D)           (None, 16, 16, 512)       2359808   \n",
            "                                                                 \n",
            " activation_8 (Activation)   (None, 16, 16, 512)       0         \n",
            "                                                                 \n",
            " batch_normalization_8 (Batc  (None, 16, 16, 512)      2048      \n",
            " hNormalization)                                                 \n",
            "                                                                 \n",
            " conv2d_9 (Conv2D)           (None, 16, 16, 512)       2359808   \n",
            "                                                                 \n",
            " activation_9 (Activation)   (None, 16, 16, 512)       0         \n",
            "                                                                 \n",
            " max_pooling2d_3 (MaxPooling  (None, 8, 8, 512)        0         \n",
            " 2D)                                                             \n",
            "                                                                 \n",
            " batch_normalization_9 (Batc  (None, 8, 8, 512)        2048      \n",
            " hNormalization)                                                 \n",
            "                                                                 \n",
            " conv2d_10 (Conv2D)          (None, 8, 8, 512)         2359808   \n",
            "                                                                 \n",
            " activation_10 (Activation)  (None, 8, 8, 512)         0         \n",
            "                                                                 \n",
            " batch_normalization_10 (Bat  (None, 8, 8, 512)        2048      \n",
            " chNormalization)                                                \n",
            "                                                                 \n",
            " conv2d_11 (Conv2D)          (None, 8, 8, 512)         2359808   \n",
            "                                                                 \n",
            " activation_11 (Activation)  (None, 8, 8, 512)         0         \n",
            "                                                                 \n",
            " batch_normalization_11 (Bat  (None, 8, 8, 512)        2048      \n",
            " chNormalization)                                                \n",
            "                                                                 \n",
            " conv2d_12 (Conv2D)          (None, 8, 8, 512)         2359808   \n",
            "                                                                 \n",
            " activation_12 (Activation)  (None, 8, 8, 512)         0         \n",
            "                                                                 \n",
            " max_pooling2d_4 (MaxPooling  (None, 4, 4, 512)        0         \n",
            " 2D)                                                             \n",
            "                                                                 \n",
            " batch_normalization_12 (Bat  (None, 4, 4, 512)        2048      \n",
            " chNormalization)                                                \n",
            "                                                                 \n",
            " flatten (Flatten)           (None, 8192)              0         \n",
            "                                                                 \n",
            " dense (Dense)               (None, 4096)              33558528  \n",
            "                                                                 \n",
            " activation_13 (Activation)  (None, 4096)              0         \n",
            "                                                                 \n",
            " batch_normalization_13 (Bat  (None, 4096)             16384     \n",
            " chNormalization)                                                \n",
            "                                                                 \n",
            " dropout (Dropout)           (None, 4096)              0         \n",
            "                                                                 \n",
            " dense_1 (Dense)             (None, 4096)              16781312  \n",
            "                                                                 \n",
            " activation_14 (Activation)  (None, 4096)              0         \n",
            "                                                                 \n",
            " batch_normalization_14 (Bat  (None, 4096)             16384     \n",
            " chNormalization)                                                \n",
            "                                                                 \n",
            " dropout_1 (Dropout)         (None, 4096)              0         \n",
            "                                                                 \n",
            " dense_2 (Dense)             (None, 1000)              4097000   \n",
            "                                                                 \n",
            " activation_15 (Activation)  (None, 1000)              0         \n",
            "                                                                 \n",
            " batch_normalization_15 (Bat  (None, 1000)             4000      \n",
            " chNormalization)                                                \n",
            "                                                                 \n",
            " dropout_2 (Dropout)         (None, 1000)              0         \n",
            "                                                                 \n",
            " dense_3 (Dense)             (None, 2)                 2002      \n",
            "                                                                 \n",
            "=================================================================\n",
            "Total params: 69,206,042\n",
            "Trainable params: 69,179,210\n",
            "Non-trainable params: 26,832\n",
            "_________________________________________________________________\n"
          ]
        }
      ],
      "source": [
        "num_classes=2\n",
        "vgg16=vgg16(num_classes)\n",
        "vgg16.summary()"
      ]
    },
    {
      "cell_type": "code",
      "execution_count": null,
      "metadata": {
        "colab": {
          "base_uri": "https://localhost:8080/"
        },
        "id": "eZ0TePWVZTx4",
        "outputId": "84ec9f9f-9baa-4d03-e749-3d9a8d1edc39"
      },
      "outputs": [
        {
          "output_type": "stream",
          "name": "stdout",
          "text": [
            "Model: \"sequential\"\n",
            "_________________________________________________________________\n",
            " Layer (type)                Output Shape              Param #   \n",
            "=================================================================\n",
            " conv2d (Conv2D)             (None, 128, 128, 64)      640       \n",
            "                                                                 \n",
            " activation (Activation)     (None, 128, 128, 64)      0         \n",
            "                                                                 \n",
            " batch_normalization (BatchN  (None, 128, 128, 64)     256       \n",
            " ormalization)                                                   \n",
            "                                                                 \n",
            " conv2d_1 (Conv2D)           (None, 128, 128, 64)      36928     \n",
            "                                                                 \n",
            " activation_1 (Activation)   (None, 128, 128, 64)      0         \n",
            "                                                                 \n",
            " max_pooling2d (MaxPooling2D  (None, 64, 64, 64)       0         \n",
            " )                                                               \n",
            "                                                                 \n",
            " batch_normalization_1 (Batc  (None, 64, 64, 64)       256       \n",
            " hNormalization)                                                 \n",
            "                                                                 \n",
            " conv2d_2 (Conv2D)           (None, 64, 64, 128)       73856     \n",
            "                                                                 \n",
            " activation_2 (Activation)   (None, 64, 64, 128)       0         \n",
            "                                                                 \n",
            " batch_normalization_2 (Batc  (None, 64, 64, 128)      512       \n",
            " hNormalization)                                                 \n",
            "                                                                 \n",
            " conv2d_3 (Conv2D)           (None, 64, 64, 128)       147584    \n",
            "                                                                 \n",
            " activation_3 (Activation)   (None, 64, 64, 128)       0         \n",
            "                                                                 \n",
            " max_pooling2d_1 (MaxPooling  (None, 32, 32, 128)      0         \n",
            " 2D)                                                             \n",
            "                                                                 \n",
            " batch_normalization_3 (Batc  (None, 32, 32, 128)      512       \n",
            " hNormalization)                                                 \n",
            "                                                                 \n",
            " conv2d_4 (Conv2D)           (None, 32, 32, 256)       295168    \n",
            "                                                                 \n",
            " activation_4 (Activation)   (None, 32, 32, 256)       0         \n",
            "                                                                 \n",
            " batch_normalization_4 (Batc  (None, 32, 32, 256)      1024      \n",
            " hNormalization)                                                 \n",
            "                                                                 \n",
            " conv2d_5 (Conv2D)           (None, 32, 32, 256)       590080    \n",
            "                                                                 \n",
            " activation_5 (Activation)   (None, 32, 32, 256)       0         \n",
            "                                                                 \n",
            " batch_normalization_5 (Batc  (None, 32, 32, 256)      1024      \n",
            " hNormalization)                                                 \n",
            "                                                                 \n",
            " conv2d_6 (Conv2D)           (None, 32, 32, 256)       590080    \n",
            "                                                                 \n",
            " activation_6 (Activation)   (None, 32, 32, 256)       0         \n",
            "                                                                 \n",
            " max_pooling2d_2 (MaxPooling  (None, 16, 16, 256)      0         \n",
            " 2D)                                                             \n",
            "                                                                 \n",
            " batch_normalization_6 (Batc  (None, 16, 16, 256)      1024      \n",
            " hNormalization)                                                 \n",
            "                                                                 \n",
            " conv2d_7 (Conv2D)           (None, 16, 16, 512)       1180160   \n",
            "                                                                 \n",
            " activation_7 (Activation)   (None, 16, 16, 512)       0         \n",
            "                                                                 \n",
            " batch_normalization_7 (Batc  (None, 16, 16, 512)      2048      \n",
            " hNormalization)                                                 \n",
            "                                                                 \n",
            " conv2d_8 (Conv2D)           (None, 16, 16, 512)       2359808   \n",
            "                                                                 \n",
            " activation_8 (Activation)   (None, 16, 16, 512)       0         \n",
            "                                                                 \n",
            " batch_normalization_8 (Batc  (None, 16, 16, 512)      2048      \n",
            " hNormalization)                                                 \n",
            "                                                                 \n",
            " conv2d_9 (Conv2D)           (None, 16, 16, 512)       2359808   \n",
            "                                                                 \n",
            " activation_9 (Activation)   (None, 16, 16, 512)       0         \n",
            "                                                                 \n",
            " max_pooling2d_3 (MaxPooling  (None, 8, 8, 512)        0         \n",
            " 2D)                                                             \n",
            "                                                                 \n",
            " batch_normalization_9 (Batc  (None, 8, 8, 512)        2048      \n",
            " hNormalization)                                                 \n",
            "                                                                 \n",
            " conv2d_10 (Conv2D)          (None, 8, 8, 512)         2359808   \n",
            "                                                                 \n",
            " activation_10 (Activation)  (None, 8, 8, 512)         0         \n",
            "                                                                 \n",
            " batch_normalization_10 (Bat  (None, 8, 8, 512)        2048      \n",
            " chNormalization)                                                \n",
            "                                                                 \n",
            " conv2d_11 (Conv2D)          (None, 8, 8, 512)         2359808   \n",
            "                                                                 \n",
            " activation_11 (Activation)  (None, 8, 8, 512)         0         \n",
            "                                                                 \n",
            " batch_normalization_11 (Bat  (None, 8, 8, 512)        2048      \n",
            " chNormalization)                                                \n",
            "                                                                 \n",
            " conv2d_12 (Conv2D)          (None, 8, 8, 512)         2359808   \n",
            "                                                                 \n",
            " activation_12 (Activation)  (None, 8, 8, 512)         0         \n",
            "                                                                 \n",
            " max_pooling2d_4 (MaxPooling  (None, 4, 4, 512)        0         \n",
            " 2D)                                                             \n",
            "                                                                 \n",
            " batch_normalization_12 (Bat  (None, 4, 4, 512)        2048      \n",
            " chNormalization)                                                \n",
            "                                                                 \n",
            " flatten (Flatten)           (None, 8192)              0         \n",
            "                                                                 \n",
            " dense (Dense)               (None, 4096)              33558528  \n"
          ]
        },
        {
          "output_type": "stream",
          "name": "stderr",
          "text": [
            "/usr/local/lib/python3.7/dist-packages/keras/optimizer_v2/gradient_descent.py:102: UserWarning: The `lr` argument is deprecated, use `learning_rate` instead.\n",
            "  super(SGD, self).__init__(name, **kwargs)\n"
          ]
        },
        {
          "output_type": "stream",
          "name": "stdout",
          "text": [
            "                                                                 \n",
            " activation_13 (Activation)  (None, 4096)              0         \n",
            "                                                                 \n",
            " batch_normalization_13 (Bat  (None, 4096)             16384     \n",
            " chNormalization)                                                \n",
            "                                                                 \n",
            " dropout (Dropout)           (None, 4096)              0         \n",
            "                                                                 \n",
            " dense_1 (Dense)             (None, 4096)              16781312  \n",
            "                                                                 \n",
            " activation_14 (Activation)  (None, 4096)              0         \n",
            "                                                                 \n",
            " batch_normalization_14 (Bat  (None, 4096)             16384     \n",
            " chNormalization)                                                \n",
            "                                                                 \n",
            " dropout_1 (Dropout)         (None, 4096)              0         \n",
            "                                                                 \n",
            " dense_2 (Dense)             (None, 1000)              4097000   \n",
            "                                                                 \n",
            " activation_15 (Activation)  (None, 1000)              0         \n",
            "                                                                 \n",
            " batch_normalization_15 (Bat  (None, 1000)             4000      \n",
            " chNormalization)                                                \n",
            "                                                                 \n",
            " dropout_2 (Dropout)         (None, 1000)              0         \n",
            "                                                                 \n",
            " dense_3 (Dense)             (None, 2)                 2002      \n",
            "                                                                 \n",
            "=================================================================\n",
            "Total params: 69,206,042\n",
            "Trainable params: 69,179,210\n",
            "Non-trainable params: 26,832\n",
            "_________________________________________________________________\n"
          ]
        }
      ],
      "source": [
        "#setting hyperparameter, menggunakan Adam\n",
        "opt = SGD(lr=0.0001)\n",
        "vgg16.compile(loss='categorical_crossentropy', optimizer=opt, metrics=['accuracy'])\n",
        "vgg16.summary()"
      ]
    },
    {
      "cell_type": "code",
      "execution_count": null,
      "metadata": {
        "colab": {
          "base_uri": "https://localhost:8080/"
        },
        "id": "JOp0TzHxZYLf",
        "outputId": "e2e7215b-8564-4ea0-8973-4f3662dc83bb"
      },
      "outputs": [
        {
          "output_type": "stream",
          "name": "stdout",
          "text": [
            "Epoch 1/20\n",
            "159/159 [==============================] - 36s 127ms/step - loss: 1.0367 - accuracy: 0.6106 - val_loss: 1.1465 - val_accuracy: 0.4748\n",
            "Epoch 2/20\n",
            "159/159 [==============================] - 16s 100ms/step - loss: 0.7380 - accuracy: 0.7160 - val_loss: 3.7600 - val_accuracy: 0.4748\n",
            "Epoch 3/20\n",
            "159/159 [==============================] - 16s 102ms/step - loss: 0.6156 - accuracy: 0.7733 - val_loss: 1.8040 - val_accuracy: 0.4763\n",
            "Epoch 4/20\n",
            "159/159 [==============================] - 16s 102ms/step - loss: 0.5336 - accuracy: 0.8049 - val_loss: 0.7086 - val_accuracy: 0.6845\n",
            "Epoch 5/20\n",
            "159/159 [==============================] - 17s 105ms/step - loss: 0.5182 - accuracy: 0.8156 - val_loss: 0.4213 - val_accuracy: 0.8249\n",
            "Epoch 6/20\n",
            "159/159 [==============================] - 16s 104ms/step - loss: 0.4979 - accuracy: 0.8298 - val_loss: 1.2491 - val_accuracy: 0.6546\n",
            "Epoch 7/20\n",
            "159/159 [==============================] - 16s 104ms/step - loss: 0.5010 - accuracy: 0.8266 - val_loss: 0.6339 - val_accuracy: 0.7886\n",
            "Epoch 8/20\n",
            "159/159 [==============================] - 16s 102ms/step - loss: 0.4457 - accuracy: 0.8416 - val_loss: 0.3369 - val_accuracy: 0.8754\n",
            "Epoch 9/20\n",
            "159/159 [==============================] - 16s 102ms/step - loss: 0.4112 - accuracy: 0.8531 - val_loss: 0.3207 - val_accuracy: 0.8722\n",
            "Epoch 10/20\n",
            "159/159 [==============================] - 16s 103ms/step - loss: 0.4580 - accuracy: 0.8325 - val_loss: 0.2972 - val_accuracy: 0.8959\n",
            "Epoch 11/20\n",
            "159/159 [==============================] - 16s 103ms/step - loss: 0.4086 - accuracy: 0.8468 - val_loss: 0.2656 - val_accuracy: 0.9069\n",
            "Epoch 12/20\n",
            "159/159 [==============================] - 16s 103ms/step - loss: 0.4095 - accuracy: 0.8535 - val_loss: 0.2273 - val_accuracy: 0.9117\n",
            "Epoch 13/20\n",
            "159/159 [==============================] - 16s 103ms/step - loss: 0.4197 - accuracy: 0.8539 - val_loss: 0.2071 - val_accuracy: 0.9338\n",
            "Epoch 14/20\n",
            "159/159 [==============================] - 16s 103ms/step - loss: 0.4303 - accuracy: 0.8491 - val_loss: 0.1954 - val_accuracy: 0.9306\n",
            "Epoch 15/20\n",
            "159/159 [==============================] - 16s 103ms/step - loss: 0.3637 - accuracy: 0.8784 - val_loss: 0.2327 - val_accuracy: 0.9211\n",
            "Epoch 16/20\n",
            "159/159 [==============================] - 16s 103ms/step - loss: 0.3761 - accuracy: 0.8756 - val_loss: 0.1990 - val_accuracy: 0.9180\n",
            "Epoch 17/20\n",
            "159/159 [==============================] - 16s 103ms/step - loss: 0.3383 - accuracy: 0.8776 - val_loss: 0.2784 - val_accuracy: 0.8975\n",
            "Epoch 18/20\n",
            "159/159 [==============================] - 16s 104ms/step - loss: 0.3715 - accuracy: 0.8669 - val_loss: 0.2250 - val_accuracy: 0.9148\n",
            "Epoch 19/20\n",
            "159/159 [==============================] - 16s 103ms/step - loss: 0.3616 - accuracy: 0.8784 - val_loss: 0.2723 - val_accuracy: 0.8833\n",
            "Epoch 20/20\n",
            "159/159 [==============================] - 16s 103ms/step - loss: 0.3470 - accuracy: 0.8744 - val_loss: 0.2667 - val_accuracy: 0.9148\n"
          ]
        }
      ],
      "source": [
        "#training data\n",
        "H = vgg16.fit(trainX, trainY, validation_data=(testX, testY), epochs=20, batch_size=16)"
      ]
    },
    {
      "cell_type": "code",
      "execution_count": null,
      "metadata": {
        "colab": {
          "base_uri": "https://localhost:8080/"
        },
        "id": "qjoEfHoWsr9H",
        "outputId": "b36d05d7-653d-4963-a993-7124d7707006"
      },
      "outputs": [
        {
          "output_type": "stream",
          "name": "stdout",
          "text": [
            "[INFO] evaluating network...\n"
          ]
        }
      ],
      "source": [
        "print(\"[INFO] evaluating network...\")\n",
        "predictions = vgg16.predict(testX, batch_size=16)\n",
        "pred=predictions.argmax(axis=1)\n",
        "testY_argm=testY.argmax(axis=1)\n"
      ]
    },
    {
      "cell_type": "code",
      "execution_count": null,
      "metadata": {
        "colab": {
          "base_uri": "https://localhost:8080/"
        },
        "id": "Po9wqNIMts7s",
        "outputId": "0ae73f58-4ddc-446a-bc81-dbe0fc719911"
      },
      "outputs": [
        {
          "output_type": "stream",
          "name": "stdout",
          "text": [
            "              precision    recall  f1-score   support\n",
            "\n",
            "      Normal       0.95      0.87      0.91       301\n",
            "   Pneumonia       0.89      0.95      0.92       333\n",
            "\n",
            "    accuracy                           0.91       634\n",
            "   macro avg       0.92      0.91      0.91       634\n",
            "weighted avg       0.92      0.91      0.91       634\n",
            "\n"
          ]
        }
      ],
      "source": [
        "print(classification_report(testY_argm,pred,target_names=lb.classes_))"
      ]
    },
    {
      "cell_type": "code",
      "execution_count": null,
      "metadata": {
        "colab": {
          "base_uri": "https://localhost:8080/"
        },
        "id": "5NSJXylrt1ND",
        "outputId": "e4a03e67-af90-4c94-8224-ae93f20a7600"
      },
      "outputs": [
        {
          "output_type": "stream",
          "name": "stdout",
          "text": [
            "20/20 [==============================] - 6s 161ms/step - loss: 0.2667 - accuracy: 0.9148\n",
            "Test Loss 0.2667, accuracy 91.48%\n"
          ]
        }
      ],
      "source": [
        "test_score = vgg16.evaluate(testX, testY) \n",
        "print(\"Test Loss {:.4f}, accuracy {:.2f}%\".format(test_score[0], test_score[1] * 100))"
      ]
    },
    {
      "cell_type": "code",
      "execution_count": null,
      "metadata": {
        "id": "ZS-FXHa6uI6H"
      },
      "outputs": [],
      "source": [
        "from sklearn.metrics import confusion_matrix\n",
        "import itertools\n",
        "\n",
        "def plot_confusion_matrix(cm, classes, normalize=False, title='Confusion matrix', cmap='Blues'):\n",
        "  if normalize:\n",
        "     cm = cm.astype('float') / cm.sum(axis=1)[:, np.newaxis]\n",
        "     print(\"Normalized confusion matrix\")\n",
        "  else:\n",
        "     print('Confusion matrix, without normalization')\n",
        "  print(cm)\n",
        "  plt.imshow(cm, interpolation='nearest', cmap=cmap)\n",
        "  plt.title(title)\n",
        "  plt.colorbar()\n",
        "  tick_marks = np.arange(len(classes))\n",
        "  plt.xticks(tick_marks, classes, rotation=45)\n",
        "  plt.yticks(tick_marks, classes)\n",
        "  fmt = '.2f' if normalize else 'd'\n",
        "  thresh = cm.max() / 2.\n",
        "  for i, j in itertools.product(range(cm.shape[0]), range(cm.shape[1])):\n",
        "      plt.text(j, i, format(cm[i, j], fmt), horizontalalignment=\"center\", color=\"white\" if cm[i, j] > thresh else \"black\")\n",
        "  plt.ylabel('True label')\n",
        "  plt.xlabel('Predicted label')\n",
        "  plt.tight_layout()"
      ]
    },
    {
      "cell_type": "code",
      "execution_count": null,
      "metadata": {
        "colab": {
          "base_uri": "https://localhost:8080/",
          "height": 1000
        },
        "id": "eiYstz9xuRLx",
        "outputId": "4dd2e72e-2e0f-4373-b7cf-7dbf32d13eea"
      },
      "outputs": [
        {
          "output_type": "stream",
          "name": "stdout",
          "text": [
            "Normalized confusion matrix\n",
            "[[0.87 0.13]\n",
            " [0.05 0.95]]\n"
          ]
        },
        {
          "output_type": "display_data",
          "data": {
            "text/plain": [
              "<Figure size 432x288 with 2 Axes>"
            ],
            "image/png": "[encoded data removed]"
          },
          "metadata": {
            "needs_background": "light"
          }
        },
        {
          "output_type": "stream",
          "name": "stdout",
          "text": [
            "Confusion matrix, without normalization\n",
            "[[262  39]\n",
            " [ 15 318]]\n"
          ]
        },
        {
          "output_type": "display_data",
          "data": {
            "text/plain": [
              "<Figure size 432x288 with 2 Axes>"
            ],
            "image/png": "[encoded data removed]"
          },
          "metadata": {
            "needs_background": "light"
          }
        },
        {
          "output_type": "display_data",
          "data": {
            "text/plain": [
              "<Figure size 432x288 with 1 Axes>"
            ],
            "image/png": "[encoded data removed]"
          },
          "metadata": {
            "needs_background": "light"
          }
        },
        {
          "output_type": "display_data",
          "data": {
            "text/plain": [
              "<Figure size 432x288 with 1 Axes>"
            ],
            "image/png": "[encoded data removed]"
          },
          "metadata": {
            "needs_background": "light"
          }
        }
      ],
      "source": [
        "cnf_matrix = confusion_matrix(testY_argm, pred)\n",
        "np.set_printoptions(precision=2)\n",
        "\n",
        "# Plot non/normalized confusion matrix\n",
        "plt.figure()\n",
        "plot_confusion_matrix(cnf_matrix,\n",
        "classes=lb.classes_, normalize=True)\n",
        "plt.show()\n",
        "\n",
        "plt.figure()\n",
        "plot_confusion_matrix(cnf_matrix,\n",
        "classes=lb.classes_, normalize=False)\n",
        "plt.show()\n",
        "\n",
        "f, ax = plt.subplots()\n",
        "ax.plot([None] + H.history['accuracy'], 'o-')\n",
        "ax.plot([None] + H.history['val_accuracy'], 'x-')\n",
        "\n",
        "ax.legend(['Train acc', 'Validation acc'], loc = 0)\n",
        "ax.set_title('Training/Validation acc per Epoch')\n",
        "ax.set_xlabel('Epoch')\n",
        "ax.set_ylabel('acc')\n",
        "plt.grid(True)\n",
        "\n",
        "f, ax = plt.subplots()\n",
        "ax.plot([None] + H.history['loss'], 'o-')\n",
        "ax.plot([None] + H.history['val_loss'], 'x-')\n",
        "ax.legend(['Train Loss', 'Validation Loss'], loc = 0)\n",
        "ax.set_title('Training/Validation Loss per Epoch')\n",
        "ax.set_xlabel('Epoch')\n",
        "ax.set_ylabel('loss')\n",
        "plt.grid(True)"
      ]
    }
  ],
  "metadata": {
    "accelerator": "GPU",
    "colab": {
      "collapsed_sections": [],
      "name": "pneumonia_VGG_16_fiX (4).ipynb",
      "provenance": [],
      "include_colab_link": true
    },
    "gpuClass": "standard",
    "kernelspec": {
      "display_name": "Python 3",
      "name": "python3"
    },
    "language_info": {
      "name": "python"
    }
  },
  "nbformat": 4,
  "nbformat_minor": 0
}